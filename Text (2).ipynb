{
 "cells": [
  {
   "cell_type": "markdown",
   "id": "6772f42b-457a-4080-8210-fc3408e0b00b",
   "metadata": {},
   "source": [
    "This analysis compares Deepak Nitrite Ltd. and the BSE 150 Midcap Index, offering insights of their relationship between risk and returns profile. \n",
    "\n",
    "To start, we evaluated the gainers and losers within the BSE 150 Midcap Index based on market fluctuations. The Index displays significant volatility, with returns ranging from -9.02% to 17.11%, a mean return of 0.18%, and a variance of 2.63. This volatility is further illustrated by a high skewness of 3.25 and a kurtosis of 53.8, indicating a right-skewed, “fat-tailed” distribution prone to extreme price movements. Such characteristics suggest a higher risk profile, making this index appealing to investors willing to embrace substantial fluctuations for potential gains. \n",
    "\n",
    "In contrast, Deepak Nitrite demonstrates a more stable performance, with returns between -5.59% and 5.73%, a mean of 0.14%, and a variance of 3.24. Its nearly zero skewness (0.03) and low kurtosis (0.84) indicate a symmetrical, thin-tailed distribution that reduces the likelihood of abrupt price changes, making Deepak Nitrite attractive to conservative investors seeking reliable returns.\n",
    "\n",
    "The correlation analysis reveals that both the index and Deepak Nitrite experienced increases 105 times over 248 trading days, with a moderate positive correlation with a Pearson coefficient of 0.41. A regression equation of ( y = 0.13 + 0.37x) indicates a 1% increase in Deepak Nitrite’s percentage change correlates with a 0.37% rise in the BSE Index. However, the R-squared value of 0.172 shows that only 17.2% of the index's variability can be explained by changes in Deepak Nitrite’s stock, underscoring the influence of other factors on index movements. A beta of 0.37 suggests Deepak Nitrite is less volatile than the BSE Index, reinforcing its status as a more stable investment.\n",
    "\n",
    "Box plot analysis illustrates the return distributions for both assets. The Index shows a wider IQR compared to Deepak Nitrite, reflecting greater variability among its central data points. While Deepak Nitrite shows wider data spread, the Index has shorter whiskers but a greater number of outliers and extreme values. This indicates that while the Index may offer larger gains, it also carries a heightened risk of volatility.\n",
    "\n",
    "Trend analysis shows both the index and Deepak Nitrite exhibit upward movement, particularly after events like the Indian elections. However their trajectories differ; Deepak Nitrite follows a head-and-shoulders pattern, indicating potential trend reversal, while the Index demonstrates exponential growth.\n",
    "\n",
    "The Chi-squared test confirms a positive upward trend association between Deepak Nitrite and the Index, with a Chi-squared statistic of 26.31 and a very low p-value, enabling us to reject the null hypothesis. However, the t-test results (p-value of 0.2103) show that Deepak Nitrite’s average percentage change in returns is not significantly different from zero, indicating limited movement over the analysed period. This aligns with the observed head-and-shoulders pattern in Deepak Nitrite’s price trend, which suggests a potential trend reversal, though the overall direction remains upward.\n",
    "\n",
    "In conclusion, the relationship between an index and a stock within that index reflects how movements in the stock can influence the overall index performance, although various external factors may also impact the index. Conservative investors may prefer Deepak Nitrite, as it exhibits lower volatility and predictable returns, while those seeking dynamic market engagement may find the BSE 150 Midcap Index more appealing due to its greater volatility and potential for higher returns. [https://www.bseindia.com/](https://www.bseindia.com/)."
   ]
  }
 ],
 "metadata": {
  "kernelspec": {
   "display_name": "Python 3 (ipykernel)",
   "language": "python",
   "name": "python3"
  },
  "language_info": {
   "codemirror_mode": {
    "name": "ipython",
    "version": 3
   },
   "file_extension": ".py",
   "mimetype": "text/x-python",
   "name": "python",
   "nbconvert_exporter": "python",
   "pygments_lexer": "ipython3",
   "version": "3.11.9"
  }
 },
 "nbformat": 4,
 "nbformat_minor": 5
}
